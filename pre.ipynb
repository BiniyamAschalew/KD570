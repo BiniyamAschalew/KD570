{
 "cells": [
  {
   "cell_type": "code",
   "execution_count": 1,
   "metadata": {},
   "outputs": [],
   "source": [
    "from architecture import ConvNetBuilder\n",
    "from utils import train_network, test_network, get_soft_labels, generate_noise_dataloader\n",
    "from dataset import MNISTDataLoader\n",
    "import torch\n",
    "import random\n",
    "import numpy as np\n",
    "import matplotlib.pyplot as plt\n",
    "\n"
   ]
  },
  {
   "cell_type": "code",
   "execution_count": 6,
   "metadata": {},
   "outputs": [],
   "source": [
    "# setting a fixed seed\n",
    "seed_value = 19\n",
    "BATCH_SIZE = 4\n",
    "\n",
    "torch.manual_seed(seed_value)\n",
    "if torch.cuda.is_available():\n",
    "    torch.cuda.manual_seed_all(seed_value)\n",
    "random.seed(seed_value)\n",
    "np.random.seed(seed_value)\n",
    "\n",
    "device = torch.device(\"cuda:0\" if torch.cuda.is_available() else \"cpu\")"
   ]
  },
  {
   "cell_type": "code",
   "execution_count": 2,
   "metadata": {},
   "outputs": [
    {
     "data": {
      "text/plain": [
       "ConvNetBuilder(\n",
       "  (conv_blocks): ModuleList(\n",
       "    (0): ConvBlock(\n",
       "      (conv): Conv2d(1, 16, kernel_size=(3, 3), stride=(1, 1), padding=(1, 1))\n",
       "      (bn): BatchNorm2d(16, eps=1e-05, momentum=0.1, affine=True, track_running_stats=True)\n",
       "      (relu): ReLU()\n",
       "      (dropout): Dropout(p=0.5, inplace=False)\n",
       "    )\n",
       "    (1): ConvBlock(\n",
       "      (conv): Conv2d(16, 32, kernel_size=(3, 3), stride=(1, 1), padding=(1, 1))\n",
       "      (bn): BatchNorm2d(32, eps=1e-05, momentum=0.1, affine=True, track_running_stats=True)\n",
       "      (relu): ReLU()\n",
       "      (dropout): Dropout(p=0.5, inplace=False)\n",
       "    )\n",
       "    (2): ConvBlock(\n",
       "      (conv): Conv2d(32, 64, kernel_size=(3, 3), stride=(1, 1), padding=(1, 1))\n",
       "      (bn): BatchNorm2d(64, eps=1e-05, momentum=0.1, affine=True, track_running_stats=True)\n",
       "      (relu): ReLU()\n",
       "      (dropout): Dropout(p=0.5, inplace=False)\n",
       "    )\n",
       "    (3): ConvBlock(\n",
       "      (conv): Conv2d(64, 64, kernel_size=(3, 3), stride=(1, 1), padding=(1, 1))\n",
       "      (bn): BatchNorm2d(64, eps=1e-05, momentum=0.1, affine=True, track_running_stats=True)\n",
       "      (relu): ReLU()\n",
       "      (dropout): Dropout(p=0.5, inplace=False)\n",
       "    )\n",
       "  )\n",
       "  (pool): MaxPool2d(kernel_size=2, stride=2, padding=0, dilation=1, ceil_mode=False)\n",
       "  (fc): Linear(in_features=64, out_features=10, bias=True)\n",
       ")"
      ]
     },
     "execution_count": 2,
     "metadata": {},
     "output_type": "execute_result"
    }
   ],
   "source": [
    "\n",
    "student_input_dict = { \"size\": [16, 32], \"kernel_size\": [3, 3], \"stride\": [1, 1], \"padding\": [0, 0], \"dropout\": [0, 0] }\n",
    "\n",
    "student0 = ConvNetBuilder(1, 10, student_input_dict) # learns from softlabeled noise\n",
    "student1 = ConvNetBuilder(1, 10, student_input_dict) # learns from hardlabeled mnist\n",
    "student2 = ConvNetBuilder(1, 10, student_input_dict) # learns from softlabeled mnist\n",
    "student3 = ConvNetBuilder(1, 10, student_input_dict) # no learning / random baseline\n",
    "\n",
    "student0.to(device)\n",
    "student1.to(device)\n",
    "student2.to(device)\n",
    "student3.to(device)\n",
    "\n",
    "teacher_input_dict = { \"size\": [16, 32, 64, 64], \"kernel_size\": [3, 3, 3, 3], \"stride\": [1, 1, 1, 1], \"padding\": [1, 1, 1, 1], \"dropout\": [0.5, 0.5, 0.5, 0.5] }\n",
    "teacher = ConvNetBuilder(1, 10, teacher_input_dict)\n",
    "\n",
    "teacher.to(device)"
   ]
  },
  {
   "cell_type": "code",
   "execution_count": null,
   "metadata": {},
   "outputs": [],
   "source": [
    "\n",
    "trainloader, testloader = MNISTDataLoader(BATCH_SIZE).load_data()\n",
    "teacher = train_network(teacher, trainloader, 1, 0.001, device)\n",
    "\n",
    "print(\"finished training teacher\")"
   ]
  },
  {
   "cell_type": "code",
   "execution_count": 4,
   "metadata": {},
   "outputs": [
    {
     "name": "stdout",
     "output_type": "stream",
     "text": [
      "Accuracy of the network on the 10000 test images: 95 %\n"
     ]
    },
    {
     "data": {
      "text/plain": [
       "0.9528"
      ]
     },
     "execution_count": 4,
     "metadata": {},
     "output_type": "execute_result"
    }
   ],
   "source": [
    "test_network(teacher, testloader, device)"
   ]
  },
  {
   "cell_type": "code",
   "execution_count": 5,
   "metadata": {},
   "outputs": [
    {
     "name": "stdout",
     "output_type": "stream",
     "text": [
      "finished getting soft labels for MNIST\n",
      "finished getting soft labels for noise\n"
     ]
    }
   ],
   "source": [
    "mnist_soft_labels_loader = get_soft_labels(teacher, trainloader, device)\n",
    "print(\"finished getting soft labels for MNIST\")\n",
    "\n",
    "# mnist dataset has 60k images, for the noise we will generate 600k images\n",
    "noise_loader = generate_noise_dataloader(600000, device, BATCH_SIZE)\n",
    "noise_soft_labels_loader = get_soft_labels(teacher, noise_loader, device)\n",
    "print(\"finished getting soft labels for noise\")\n"
   ]
  },
  {
   "cell_type": "code",
   "execution_count": null,
   "metadata": {},
   "outputs": [],
   "source": []
  },
  {
   "cell_type": "code",
   "execution_count": null,
   "metadata": {},
   "outputs": [],
   "source": [
    "\n",
    "student0 = train_network(student0, noise_soft_labels_loader, 1, 0.001, device)\n",
    "student1 = train_network(student1, trainloader, 1, 0.001, device)\n",
    "student2 = train_network(student2, mnist_soft_labels_loader, 1, 0.001, device)\n",
    "\n",
    "print(\"evaluating the four students\")\n",
    "print(\"evaluating student 0 which is trained on soft labels from noise\")\n",
    "test_network(student0, testloader, device)\n",
    "\n",
    "print(\"evaluating student 1 which is trained on hard labels\")\n",
    "test_network(student1, testloader, device)\n",
    "\n",
    "print(\"evaluating student 2 which is trained on soft labels\")\n",
    "test_network(student2, testloader, device)\n",
    "\n",
    "print(\"evaluating student 3 which is not trained yet\")\n",
    "test_network(student3, testloader, device)"
   ]
  }
 ],
 "metadata": {
  "kernelspec": {
   "display_name": "augcon",
   "language": "python",
   "name": "python3"
  },
  "language_info": {
   "codemirror_mode": {
    "name": "ipython",
    "version": 3
   },
   "file_extension": ".py",
   "mimetype": "text/x-python",
   "name": "python",
   "nbconvert_exporter": "python",
   "pygments_lexer": "ipython3",
   "version": "3.9.16"
  }
 },
 "nbformat": 4,
 "nbformat_minor": 2
}
